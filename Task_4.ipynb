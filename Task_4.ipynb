{
  "nbformat": 4,
  "nbformat_minor": 0,
  "metadata": {
    "kernelspec": {
      "display_name": "Python 3",
      "language": "python",
      "name": "python3"
    },
    "language_info": {
      "codemirror_mode": {
        "name": "ipython",
        "version": 3
      },
      "file_extension": ".py",
      "mimetype": "text/x-python",
      "name": "python",
      "nbconvert_exporter": "python",
      "pygments_lexer": "ipython3",
      "version": "3.6.0"
    },
    "colab": {
      "name": "Копия блокнота \"Копия 2.3.ipynb\"",
      "provenance": [],
      "collapsed_sections": []
    }
  },
  "cells": [
    {
      "cell_type": "code",
      "metadata": {
        "colab": {
          "base_uri": "https://localhost:8080/"
        },
        "id": "UlAsldT6hgjm",
        "outputId": "29ffd99b-4621-49cd-e74c-641fe8d2a999"
      },
      "source": [
        "import pandas as pd\n",
        "import matplotlib.pyplot as plt\n",
        "from google.colab import drive \n",
        "drive.mount('/content/gdrive')\n",
        "\n",
        "print('Задание 4.')\n",
        "\n",
        "# В этом задании мы будем работать с датасетом, в котором приведены данные по\n",
        "# мошенничеству с кредитными данными: Credit Card Fraud Detection (информация об\n",
        "# авторах: Andrea Dal Pozzolo, Olivier Caelen, Reid A. Johnson and Gianluca Bontempi.\n",
        "# Calibrating Probability with Undersampling for Unbalanced Classification. In\n",
        "# Symposium on Computational Intelligence and Data Mining (CIDM), IEEE, 2015).\n",
        "# Ознакомьтесь с описанием и скачайте датасет creditcard.csv с сайта Kaggle.com по ссылке:\n",
        "# Credit Card Fraud Detection\n",
        "# Данный датасет является примером несбалансированных данных, так как мошеннические\n",
        "# операции с картами встречаются реже обычных. Импортируйте библиотеку Pandas, а\n",
        "# также используйте для графиков стиль “fivethirtyeight”. Посчитайте с помощью\n",
        "# метода value_counts количество наблюдений для каждого значения целевой переменной\n",
        "# Class и примените к полученным данным метод plot, чтобы построить столбчатую\n",
        "# диаграмму. Затем постройте такую же диаграмму, используя логарифмический масштаб.\n",
        "# На следующем графике постройте две гистограммы по значениям признака V1 - одну\n",
        "# для мошеннических транзакций (Class равен 1) и другую - для обычных (Class равен\n",
        "# 0). Подберите значение аргумента density так, чтобы по вертикали графика было\n",
        "# расположено не число наблюдений, а плотность распределения. Число бинов должно\n",
        "# равняться 20 для обеих гистограмм, а коэффициент alpha сделайте равным 0.5,\n",
        "# чтобы гистограммы были полупрозрачными и не загораживали друг друга. Создайте\n",
        "# легенду с двумя значениями: “Class 0” и “Class 1”. Гистограмма обычных транзакций\n",
        "# должна быть серого цвета, а мошеннических - красного. Горизонтальной оси дайте название “V1”.\n",
        "\n",
        "credit = pd.read_csv('gdrive/My Drive/creditcard.csv', sep=',')\n",
        "print(credit)\n",
        "\n",
        "values = credit['Class'].value_counts()\n",
        "print('Количество наблюдений для каждого значения:\\n', values)"
      ],
      "execution_count": 12,
      "outputs": [
        {
          "output_type": "stream",
          "name": "stdout",
          "text": [
            "Drive already mounted at /content/gdrive; to attempt to forcibly remount, call drive.mount(\"/content/gdrive\", force_remount=True).\n",
            "Задание 4.\n",
            "            Time         V1         V2  ...       V28  Amount  Class\n",
            "0            0.0  -1.359807  -0.072781  ... -0.021053  149.62      0\n",
            "1            0.0   1.191857   0.266151  ...  0.014724    2.69      0\n",
            "2            1.0  -1.358354  -1.340163  ... -0.059752  378.66      0\n",
            "3            1.0  -0.966272  -0.185226  ...  0.061458  123.50      0\n",
            "4            2.0  -1.158233   0.877737  ...  0.215153   69.99      0\n",
            "...          ...        ...        ...  ...       ...     ...    ...\n",
            "284802  172786.0 -11.881118  10.071785  ...  0.823731    0.77      0\n",
            "284803  172787.0  -0.732789  -0.055080  ... -0.053527   24.79      0\n",
            "284804  172788.0   1.919565  -0.301254  ... -0.026561   67.88      0\n",
            "284805  172788.0  -0.240440   0.530483  ...  0.104533   10.00      0\n",
            "284806  172792.0  -0.533413  -0.189733  ...  0.013649  217.00      0\n",
            "\n",
            "[284807 rows x 31 columns]\n",
            "Количество наблюдений для каждого значения:\n",
            " 0    284315\n",
            "1       492\n",
            "Name: Class, dtype: int64\n"
          ]
        }
      ]
    },
    {
      "cell_type": "code",
      "metadata": {
        "colab": {
          "base_uri": "https://localhost:8080/",
          "height": 279
        },
        "id": "OBuKb6VRHlGf",
        "outputId": "a2ac4b0a-eacb-4481-dd12-9f762fd328c1"
      },
      "source": [
        "values.plot(kind='bar')\n",
        "plt.show"
      ],
      "execution_count": 15,
      "outputs": [
        {
          "output_type": "execute_result",
          "data": {
            "text/plain": [
              "<function matplotlib.pyplot.show>"
            ]
          },
          "metadata": {},
          "execution_count": 15
        },
        {
          "output_type": "display_data",
          "data": {
            "image/png": "[encoded data removed]",
            "text/plain": [
              "<Figure size 432x288 with 1 Axes>"
            ]
          },
          "metadata": {
            "needs_background": "light"
          }
        }
      ]
    },
    {
      "cell_type": "code",
      "metadata": {
        "colab": {
          "base_uri": "https://localhost:8080/",
          "height": 279
        },
        "id": "zUr9Yq_fG_Zg",
        "outputId": "c0d76c71-8d54-4eff-bc32-6fd773b60b37"
      },
      "source": [
        "values.plot(kind='bar')\n",
        "plt.yscale(value='log')\n",
        "plt.show"
      ],
      "execution_count": 16,
      "outputs": [
        {
          "output_type": "execute_result",
          "data": {
            "text/plain": [
              "<function matplotlib.pyplot.show>"
            ]
          },
          "metadata": {},
          "execution_count": 16
        },
        {
          "output_type": "display_data",
          "data": {
            "image/png": "[encoded data removed]",
            "text/plain": [
              "<Figure size 432x288 with 1 Axes>"
            ]
          },
          "metadata": {
            "needs_background": "light"
          }
        }
      ]
    },
    {
      "cell_type": "code",
      "metadata": {
        "colab": {
          "base_uri": "https://localhost:8080/",
          "height": 312
        },
        "id": "iWJGzMrPIfYQ",
        "outputId": "6e165283-e14b-4779-df26-f0cf0cde07bb"
      },
      "source": [
        "plt.hist(credit.loc[(credit['Class'] == 1), 'V1'], bins=20, density=True, alpha=0.5, color='red')\n",
        "plt.title('Мошеннические транзакции')\n",
        "plt.xlabel('V1')\n",
        "plt.legend(labels=['Class 1'])\n",
        "plt.show"
      ],
      "execution_count": 37,
      "outputs": [
        {
          "output_type": "execute_result",
          "data": {
            "text/plain": [
              "<function matplotlib.pyplot.show>"
            ]
          },
          "metadata": {},
          "execution_count": 37
        },
        {
          "output_type": "display_data",
          "data": {
            "image/png": "[encoded data removed]",
            "text/plain": [
              "<Figure size 432x288 with 1 Axes>"
            ]
          },
          "metadata": {
            "needs_background": "light"
          }
        }
      ]
    },
    {
      "cell_type": "code",
      "metadata": {
        "colab": {
          "base_uri": "https://localhost:8080/",
          "height": 312
        },
        "id": "xlNBLomJPvHD",
        "outputId": "4a34a2d2-dc28-4b06-842a-bfce617c5ce4"
      },
      "source": [
        "plt.hist(credit.loc[(credit['Class'] == 0), 'V1'], bins=20, density=True, alpha=0.5, color='lightgrey')\n",
        "plt.title('Обычные транзакции')\n",
        "plt.xlabel('V1')\n",
        "plt.legend(labels=['Class 0'])\n",
        "plt.show"
      ],
      "execution_count": 38,
      "outputs": [
        {
          "output_type": "execute_result",
          "data": {
            "text/plain": [
              "<function matplotlib.pyplot.show>"
            ]
          },
          "metadata": {},
          "execution_count": 38
        },
        {
          "output_type": "display_data",
          "data": {
            "image/png": "[encoded data removed]",
            "text/plain": [
              "<Figure size 432x288 with 1 Axes>"
            ]
          },
          "metadata": {
            "needs_background": "light"
          }
        }
      ]
    }
  ]
}